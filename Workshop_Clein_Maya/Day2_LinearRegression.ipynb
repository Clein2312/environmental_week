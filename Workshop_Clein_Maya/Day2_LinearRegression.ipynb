{
 "cells": [
  {
   "cell_type": "markdown",
   "metadata": {
    "id": "9oiEE5igJdmx",
    "pycharm": {
     "name": "#%% md\n"
    }
   },
   "source": [
    "# Linear Regression\n",
    "\n",
    "In deze workshop gaan we verder met het voorspellen van huisprijzen. De data die we gebruiken zijn data van funda. Gegevens van huizen en de bijbehorende vraagprijs. We gaan vandaag de data verkennen. Morgen gaan we een voorspellend model trainen\n",
    "\n",
    "\n",
    "Dit notebook:\n",
    "- voorspellen met lineaire regressie\n",
    "\n",
    "\n",
    "Vandaag is er maar 1 doel. Probeer de best mogelijke performance te krijgen (= de laagste error). \n",
    "Stuur je beste model bestaande uit:\n",
    "- de features + evt bewerkingen \n",
    "- de means squared error van je model\n",
    "- de R2 score\n",
    "\n",
    "Ga lekker aan de slag je resultaten op naar maya.sappelli@han.nl\n",
    "\n",
    "\n"
   ]
  },
  {
   "cell_type": "code",
   "execution_count": null,
   "metadata": {
    "id": "NavbuaJsKA9t",
    "pycharm": {
     "name": "#%%\n"
    }
   },
   "outputs": [],
   "source": [
    "#download de funda dataset hier:\n",
    "!wget -N -q https://msappelli.github.io/teaching/nl_for_sale_all_anon.json"
   ]
  },
  {
   "cell_type": "code",
   "execution_count": null,
   "metadata": {
    "id": "uFOhOfevIyFe",
    "pycharm": {
     "name": "#%%\n"
    }
   },
   "outputs": [],
   "source": [
    "# data inlezen en beschrijven\n",
    "import numpy as np\n",
    "import pandas as pd\n",
    "import math\n",
    "import seaborn as sns\n",
    "import matplotlib.pyplot as plt\n",
    "%matplotlib inline\n",
    "\n",
    "df = pd.read_json(\"nl_for_sale_all_anon.json\")\n",
    "\n",
    "df[\"vraagprijs\"] = pd.to_numeric(df[\"vraagprijs\"].str.replace(\".\",\"\"))\n",
    "df[\"bouwjaar\"] = pd.to_numeric(df[\"bouwjaar\"].str.replace(\"\\w+\\s+\",\"\"))\n",
    "df[\"perceel\"] = pd.to_numeric(df[\"perceel\"])\n",
    "df.dropna(subset=['vraagprijs']) # we kijken alleen naar huizen waar de we vraagprijs van weten\n",
    "df.info()"
   ]
  },
  {
   "cell_type": "markdown",
   "metadata": {
    "id": "pOdYPY5WA6dZ",
    "pycharm": {
     "name": "#%% md\n"
    }
   },
   "source": [
    "## Stap 1: Features\n",
    "\n",
    "Eerst gaan we features kiezen en een simpel basis model trainen zodat jullie allemaal een basis hebben om op voort te borduren. Dit basis model gebruikt alleen de woonoppervlakte om de prijs te voorspellen.\n",
    "\n",
    "\n"
   ]
  },
  {
   "cell_type": "code",
   "execution_count": null,
   "metadata": {
    "id": "lrVMv_xzAdxI",
    "pycharm": {
     "name": "#%%\n"
    }
   },
   "outputs": [],
   "source": [
    "\n",
    "y = df['vraagprijs']\n",
    "X = df[['woonoppervlakte']] # df[['feature1'],['feature2']] ...\n"
   ]
  },
  {
   "cell_type": "code",
   "execution_count": null,
   "metadata": {
    "id": "xpXIfwQy2ouK",
    "pycharm": {
     "name": "#%%\n"
    }
   },
   "outputs": [],
   "source": [
    "#Zoals we bij het verkennen van de data gezien hebben komen er in de data huizen voor\n",
    "# waarbij niet elke feature een waarde heeft. Om de data geschikt te maken om hier op een model\n",
    "# op te trainen moeten deze waardes opgevuld worden, voor het gemak vullen we al deze waardes nu met 0 op\n",
    "X = X.fillna(0)\n",
    "X"
   ]
  },
  {
   "cell_type": "markdown",
   "metadata": {
    "id": "9y-bGPvmA1xt",
    "pycharm": {
     "name": "#%% md\n"
    }
   },
   "source": [
    "## Stap 2: Splitsen train/test set\n",
    "\n",
    "We splitsen de data in een train en test set zodat we kunnen zien hoe goed het model is in het voorspellen van huisprijzen van huizen die hij niet al gezien heeft. We gebruiken 20% van de data als testdata"
   ]
  },
  {
   "cell_type": "code",
   "execution_count": null,
   "metadata": {
    "id": "p7ZW67I7AL0S",
    "pycharm": {
     "name": "#%%\n"
    }
   },
   "outputs": [],
   "source": [
    "from sklearn.model_selection import train_test_split\n",
    "\n",
    "X_train, X_test, y_train, y_test = train_test_split(X, y, test_size=0.20, random_state=1)"
   ]
  },
  {
   "cell_type": "markdown",
   "metadata": {
    "id": "V7tqCWnJAQ_F",
    "pycharm": {
     "name": "#%% md\n"
    }
   },
   "source": [
    "## Stap 3: Trainen\n",
    "\n",
    "En vervolgens trainen we het model\n",
    "Hiermee ontstaat er een model van de vorm Y= a + w1x + w2x2 ... wnxn "
   ]
  },
  {
   "cell_type": "code",
   "execution_count": null,
   "metadata": {
    "id": "Oa7c1GgkARNz",
    "pycharm": {
     "name": "#%%\n"
    }
   },
   "outputs": [],
   "source": [
    "from sklearn.linear_model import LinearRegression\n",
    "#Eerst maken we ons model aan\n",
    "lr = LinearRegression()\n",
    "\n",
    "#Hierna trainen we het model op de trainingsdata om de coefficienten voor ons model te berekenen\n",
    "lr.fit(X_train, y_train)\n",
    "\n"
   ]
  },
  {
   "cell_type": "markdown",
   "source": [
    "## Stap 4: Evaluatie\n",
    "\n",
    "Nu we een model hebben kunnen we het toepassen op de ongeziene testdata om een beeld te krijgen hoe goed de voorspellingen zijn. Hiervoor kijken we naar \n",
    "- **de mean squared error**: de gemiddelde afwijking tussen voorspelde en daadwerkelijke vraagprijs. Deze wil je zo laag mogelijk hebben \n",
    "- **de R2 waarde**: Dit is een maat die aangeeft hoe goed de afhankelijke variabele (vraagprijs) voorspelbaar is op basis van de input (features). \n",
    "- We kunnen ook kijken naar voorspellingen die goed en fout gaan. Idealiter doe je dit op nog een aparte validatie set zodat de test-set echt helemaal clean blijft tot de eind-evaluatie. Kun je bedenken waarom?"
   ],
   "metadata": {
    "id": "JgXVC4N5ebZ_",
    "pycharm": {
     "name": "#%% md\n"
    }
   }
  },
  {
   "cell_type": "code",
   "source": [
    "from sklearn.metrics import mean_squared_error\n",
    "from sklearn.metrics import r2_score\n",
    "pd.set_option('display.float_format', lambda x: '%.2f' % x)\n",
    "\n",
    "def print_results(data, actual, predictions):\n",
    "  print(\"vraagprijs = \" , lr.intercept_ , \" + \" , \" + \".join([\"{} * {}\".format(el[0],el[1]) for el in list(zip(lr.coef_, X_train.columns))]))\n",
    "  print(\"MSR: \", mean_squared_error(actual,predictions)**(1/2))\n",
    "  print(\"R2\", r2_score(actual,predictions))\n",
    "\n",
    "  results = data.copy()\n",
    "  results['predicted'] = predictions\n",
    "  results['true'] = y_test\n",
    "  results['difference'] = results['predicted'] - results['true']\n",
    "\n",
    "  display(results.iloc[results['difference'].abs().argsort()])\n",
    "\n",
    "\n",
    "\n",
    "predictions = lr.predict(X_test)\n",
    "print_results(X_test, y_test, predictions)"
   ],
   "metadata": {
    "id": "5Xk9PSJ6edmV",
    "pycharm": {
     "name": "#%%\n"
    }
   },
   "execution_count": null,
   "outputs": []
  },
  {
   "cell_type": "markdown",
   "metadata": {
    "id": "tOKXQkxCdiUE",
    "pycharm": {
     "name": "#%% md\n"
    }
   },
   "source": [
    "# Opdracht: De Voorspellingen Verbeteren\n",
    "\n",
    "Nu heb je 1 basis model geprobeerd. De uitdaging is nu om de best mogelijke voorspellingen te krijgen.\n",
    "\n",
    "Op de traindata kunnen we experimenteren met verschillende features: welke data gebruik je om te trainen en wil je deze data misschien nog transformeren.\n",
    "\n",
    "\n",
    "\n",
    "* Let erop dat een lineair regressie model alleen met numerieke waarden kan werken. Wil je bijvoorbeeld de stadsnaam gebruiken zul je deze eerst om moeten zetten naar een dummy variabele die numeriek is.  Zie bijvoorbeeld [one-hot encoding](https://en.wikipedia.org/wiki/One-hot) en [sklearn one-hot encoder] (https://scikit-learn.org/stable/modules/generated/sklearn.preprocessing.OneHotEncoder.html)\n",
    "\n",
    "* Er zitten nog wat features in die misleidend zijn of foutieve informatie of missende data bevatten, kun jij deze vinden?\n",
    "\n",
    "\n",
    "* Krijg je betere / andere resultaten met SGDRegressor? [https://scikit-learn.org/stable/modules/generated/sklearn.linear_model.SGDRegressor.html] en wat is de invloed van de *parameters* ? \n",
    "\n",
    "* Voor meer inspiratie kijk eens op https://towardsdatascience.com/buying-a-house-in-the-netherlands-in-a-nerdy-way-1433691c6f2a\n",
    "\n",
    "\n",
    "Stuur je beste model (welke features/transformaties je gebruikt hebt & evaluatie resultaten) in een mail naar maya.sappelli@han.nl\n",
    "\n",
    "\n"
   ]
  }
 ],
 "metadata": {
  "colab": {
   "collapsed_sections": [],
   "provenance": [],
   "toc_visible": true
  },
  "kernelspec": {
   "display_name": "Python 3.8.10 64-bit",
   "language": "python",
   "name": "python3"
  },
  "language_info": {
   "codemirror_mode": {
    "name": "ipython",
    "version": 3
   },
   "file_extension": ".py",
   "mimetype": "text/x-python",
   "name": "python",
   "nbconvert_exporter": "python",
   "pygments_lexer": "ipython3",
   "version": "3.8.10"
  },
  "vscode": {
   "interpreter": {
    "hash": "31f2aee4e71d21fbe5cf8b01ff0e069b9275f58929596ceb00d14d90e3e16cd6"
   }
  }
 },
 "nbformat": 4,
 "nbformat_minor": 0
}