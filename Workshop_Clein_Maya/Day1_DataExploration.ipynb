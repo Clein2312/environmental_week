{
 "cells": [
  {
   "attachments": {},
   "cell_type": "markdown",
   "metadata": {
    "id": "iv8mCsXlYWn7",
    "pycharm": {
     "name": "#%% md\n"
    }
   },
   "source": [
    "# Huisprijzen voorspellen - Intro\n",
    "\n",
    "In deze workshop gaan we aan de slag met wat data analyse. De data die we gebruiken zijn funda-data. Gegevens van huizen en de vraagprijs. We gaan vandaag de data verkennen. Morgen gaan we een voorspellend model trainen\n",
    "\n",
    "Dit notebook:\n",
    "- data verkenning met pandas\n",
    "\n",
    "\n",
    "In totaal zijn er 10 vragen in dit notebook. Ga lekker aan de slag en stuur een documentje met de antwoorden op je vragen op naar maya.sappelli@han.nl\n",
    "\n",
    "_____________\n",
    "\n",
    "# Predicting house prices - Intro\n",
    "\n",
    "In this workshop, we will work with some data analysis. The data we will use is funda-data. Data of houses and the asking price. Today we are going to explore the data. Tomorrow we will train a predictive model\n",
    "\n",
    "This notebook:\n",
    "- data exploration with pandas\n",
    "\n",
    "\n",
    "There are a total of 10 questions in this notebook. Get started and send a document with the answers to your questions to maya.sappelli@han.nl\n",
    "\n",
    "Translated with www.DeepL.com/Translator (free version)"
   ]
  },
  {
   "attachments": {},
   "cell_type": "markdown",
   "metadata": {
    "id": "1a0ERf8EFMWO",
    "pycharm": {
     "name": "#%% md\n"
    }
   },
   "source": [
    "# Data\n",
    "Eerst ga je de dataset downloaden (zie volgende code block)\n",
    "\n",
    "\n",
    "Deze dataset ga je exploreren. Je wilt ontdekken hoeveel data je hebt, wat de verdelingen zijn en wat voor relaties er in de dataset zitten. \n",
    "\n",
    "We beginnen met het beschrijven van de data\n",
    "________\n",
    "# Data\n",
    "First you are going to download the dataset (see next code block)\n",
    "\n",
    "\n",
    "You are going to explore this dataset. You want to discover how much data you have, what the distributions are and what kind of relationships are in the dataset. \n",
    "\n",
    "We start by describing the data"
   ]
  },
  {
   "cell_type": "code",
   "execution_count": null,
   "metadata": {
    "id": "NavbuaJsKA9t",
    "pycharm": {
     "name": "#%%\n"
    }
   },
   "outputs": [],
   "source": [
    "#download de funda dataset hier: / download the funda dataset here:\n",
    "!wget -q https://msappelli.github.io/teaching/nl_for_sale_all_anon.json "
   ]
  },
  {
   "cell_type": "code",
   "execution_count": 2,
   "metadata": {
    "colab": {
     "base_uri": "https://localhost:8080/",
     "height": 659
    },
    "id": "uFOhOfevIyFe",
    "outputId": "a9f214f3-b51b-4c3a-db26-db828098f8a3",
    "pycharm": {
     "name": "#%%\n"
    }
   },
   "outputs": [
    {
     "name": "stdout",
     "output_type": "stream",
     "text": [
      "<class 'pandas.core.frame.DataFrame'>\n",
      "Int64Index: 8144 entries, 0 to 8143\n",
      "Data columns (total 13 columns):\n",
      " #   Column            Non-Null Count  Dtype  \n",
      "---  ------            --------------  -----  \n",
      " 0   crawled_in        8144 non-null   int64  \n",
      " 1   vraagprijs        8144 non-null   object \n",
      " 2   vraagprijsm2      8144 non-null   float64\n",
      " 3   bouwjaar          7750 non-null   object \n",
      " 4   woonoppervlakte   8144 non-null   int64  \n",
      " 5   perceel           8144 non-null   object \n",
      " 6   kamers            8144 non-null   int64  \n",
      " 7   slaapkamers       8144 non-null   int64  \n",
      " 8   stad              8144 non-null   object \n",
      " 9   aangeboden_sinds  8144 non-null   object \n",
      " 10  item_type         2978 non-null   object \n",
      " 11  latitude          8144 non-null   float64\n",
      " 12  longitude         8144 non-null   float64\n",
      "dtypes: float64(3), int64(4), object(6)\n",
      "memory usage: 890.8+ KB\n"
     ]
    },
    {
     "data": {
      "text/plain": [
       "Index(['crawled_in', 'vraagprijs', 'vraagprijsm2', 'bouwjaar',\n",
       "       'woonoppervlakte', 'perceel', 'kamers', 'slaapkamers', 'stad',\n",
       "       'aangeboden_sinds', 'item_type', 'latitude', 'longitude'],\n",
       "      dtype='object')"
      ]
     },
     "execution_count": 2,
     "metadata": {},
     "output_type": "execute_result"
    }
   ],
   "source": [
    "# data inlezen en beschrijven / data reading and describing\n",
    "import numpy as np\n",
    "import pandas as pd\n",
    "import math\n",
    "import seaborn as sns\n",
    "import matplotlib.pyplot as plt\n",
    "%matplotlib inline\n",
    "\n",
    "#The downloaded data is stored locally and we load it into a DataFrame using pandas\n",
    "df = pd.read_json(\"nl_for_sale_all_anon.json\")\n",
    "\n",
    "#first we are going to look at how the data is put together and what attributes we all have about the houses in the dataset\n",
    "df.info()\n",
    "\n",
    "#also look at some elements of the dataset\n",
    "df.head()\n",
    "\n",
    "df.columns"
   ]
  },
  {
   "cell_type": "code",
   "execution_count": 38,
   "metadata": {},
   "outputs": [
    {
     "data": {
      "text/plain": [
       "'area_living'"
      ]
     },
     "execution_count": 38,
     "metadata": {},
     "output_type": "execute_result"
    }
   ],
   "source": [
    "# Translating the column names\n",
    "translate_cols = {\n",
    "    'crawled_in':'year_crawled', \n",
    "    'vraagprijs':'price', \n",
    "    'vraagprijsm2':'price_m2', \n",
    "    'bouwjaar':'year_construction',\n",
    "    'woonoppervlakte':'area_living', \n",
    "    'perceel':'land_plot', \n",
    "    'kamers':'room_no', \n",
    "    'slaapkamers':'berooms_no', \n",
    "    'stad':'city',      \n",
    "    'aangeboden_sinds':'offered_since', \n",
    "    'item_type':'item_type', \n",
    "    'latitude':'latitude', \n",
    "    'longitude':'longitude'\n",
    "}\n",
    "df2 = df.rename(translate_cols, axis = 'columns')\n",
    "translate_cols['woonoppervlakte']"
   ]
  },
  {
   "cell_type": "code",
   "execution_count": 39,
   "metadata": {},
   "outputs": [
    {
     "data": {
      "text/html": [
       "<div>\n",
       "<style scoped>\n",
       "    .dataframe tbody tr th:only-of-type {\n",
       "        vertical-align: middle;\n",
       "    }\n",
       "\n",
       "    .dataframe tbody tr th {\n",
       "        vertical-align: top;\n",
       "    }\n",
       "\n",
       "    .dataframe thead th {\n",
       "        text-align: right;\n",
       "    }\n",
       "</style>\n",
       "<table border=\"1\" class=\"dataframe\">\n",
       "  <thead>\n",
       "    <tr style=\"text-align: right;\">\n",
       "      <th></th>\n",
       "      <th>year_crawled</th>\n",
       "      <th>price</th>\n",
       "      <th>price_m2</th>\n",
       "      <th>year_construction</th>\n",
       "      <th>area_living</th>\n",
       "      <th>land_plot</th>\n",
       "      <th>room_no</th>\n",
       "      <th>berooms_no</th>\n",
       "      <th>city</th>\n",
       "      <th>offered_since</th>\n",
       "      <th>item_type</th>\n",
       "      <th>latitude</th>\n",
       "      <th>longitude</th>\n",
       "    </tr>\n",
       "  </thead>\n",
       "  <tbody>\n",
       "    <tr>\n",
       "      <th>0</th>\n",
       "      <td>2022</td>\n",
       "      <td>325.000</td>\n",
       "      <td>3095.238095</td>\n",
       "      <td>1987</td>\n",
       "      <td>105</td>\n",
       "      <td>164</td>\n",
       "      <td>5</td>\n",
       "      <td>4</td>\n",
       "      <td>Arnhem</td>\n",
       "      <td>2 september 2022</td>\n",
       "      <td>Eengezinswoning, eindwoning</td>\n",
       "      <td>51.9577</td>\n",
       "      <td>5.8930</td>\n",
       "    </tr>\n",
       "    <tr>\n",
       "      <th>1</th>\n",
       "      <td>2022</td>\n",
       "      <td>250.000</td>\n",
       "      <td>4032.258065</td>\n",
       "      <td>1954</td>\n",
       "      <td>62</td>\n",
       "      <td></td>\n",
       "      <td>3</td>\n",
       "      <td>2</td>\n",
       "      <td>Arnhem</td>\n",
       "      <td>1 september 2022</td>\n",
       "      <td>None</td>\n",
       "      <td>51.9911</td>\n",
       "      <td>5.9366</td>\n",
       "    </tr>\n",
       "    <tr>\n",
       "      <th>2</th>\n",
       "      <td>2022</td>\n",
       "      <td>270.000</td>\n",
       "      <td>3417.721519</td>\n",
       "      <td>None</td>\n",
       "      <td>79</td>\n",
       "      <td></td>\n",
       "      <td>2</td>\n",
       "      <td>1</td>\n",
       "      <td>Arnhem</td>\n",
       "      <td>6 weken</td>\n",
       "      <td>None</td>\n",
       "      <td>51.9814</td>\n",
       "      <td>5.9064</td>\n",
       "    </tr>\n",
       "    <tr>\n",
       "      <th>3</th>\n",
       "      <td>2022</td>\n",
       "      <td>269.500</td>\n",
       "      <td>2542.452830</td>\n",
       "      <td>1980</td>\n",
       "      <td>106</td>\n",
       "      <td>123</td>\n",
       "      <td>4</td>\n",
       "      <td>3</td>\n",
       "      <td>Arnhem</td>\n",
       "      <td>2 maanden</td>\n",
       "      <td>Eengezinswoning, tussenwoning</td>\n",
       "      <td>51.9484</td>\n",
       "      <td>5.8577</td>\n",
       "    </tr>\n",
       "    <tr>\n",
       "      <th>4</th>\n",
       "      <td>2022</td>\n",
       "      <td>650.000</td>\n",
       "      <td>4744.525547</td>\n",
       "      <td>1934</td>\n",
       "      <td>137</td>\n",
       "      <td>262</td>\n",
       "      <td>5</td>\n",
       "      <td>4</td>\n",
       "      <td>Arnhem</td>\n",
       "      <td>8 weken</td>\n",
       "      <td>Eengezinswoning, hoekwoning</td>\n",
       "      <td>51.9922</td>\n",
       "      <td>5.8823</td>\n",
       "    </tr>\n",
       "    <tr>\n",
       "      <th>...</th>\n",
       "      <td>...</td>\n",
       "      <td>...</td>\n",
       "      <td>...</td>\n",
       "      <td>...</td>\n",
       "      <td>...</td>\n",
       "      <td>...</td>\n",
       "      <td>...</td>\n",
       "      <td>...</td>\n",
       "      <td>...</td>\n",
       "      <td>...</td>\n",
       "      <td>...</td>\n",
       "      <td>...</td>\n",
       "      <td>...</td>\n",
       "    </tr>\n",
       "    <tr>\n",
       "      <th>8139</th>\n",
       "      <td>2021</td>\n",
       "      <td>197.500</td>\n",
       "      <td>1899.038462</td>\n",
       "      <td>1867</td>\n",
       "      <td>104</td>\n",
       "      <td>313</td>\n",
       "      <td>4</td>\n",
       "      <td>3</td>\n",
       "      <td>Enschede</td>\n",
       "      <td>2 weken</td>\n",
       "      <td>Eengezinswoning, tussenwoning</td>\n",
       "      <td>52.2201</td>\n",
       "      <td>6.9615</td>\n",
       "    </tr>\n",
       "    <tr>\n",
       "      <th>8140</th>\n",
       "      <td>2021</td>\n",
       "      <td>795.000</td>\n",
       "      <td>2760.416667</td>\n",
       "      <td>1923</td>\n",
       "      <td>288</td>\n",
       "      <td>652</td>\n",
       "      <td>11</td>\n",
       "      <td>5</td>\n",
       "      <td>Enschede</td>\n",
       "      <td>2 weken</td>\n",
       "      <td>Villa, vrijstaande woning</td>\n",
       "      <td>52.2257</td>\n",
       "      <td>6.8956</td>\n",
       "    </tr>\n",
       "    <tr>\n",
       "      <th>8141</th>\n",
       "      <td>2021</td>\n",
       "      <td>325.000</td>\n",
       "      <td>2338.129496</td>\n",
       "      <td>1967</td>\n",
       "      <td>139</td>\n",
       "      <td>195</td>\n",
       "      <td>5</td>\n",
       "      <td>3</td>\n",
       "      <td>Enschede</td>\n",
       "      <td>2 weken</td>\n",
       "      <td>Eengezinswoning, geschakelde woning</td>\n",
       "      <td>52.2361</td>\n",
       "      <td>6.8945</td>\n",
       "    </tr>\n",
       "    <tr>\n",
       "      <th>8142</th>\n",
       "      <td>2021</td>\n",
       "      <td>230.000</td>\n",
       "      <td>3333.333333</td>\n",
       "      <td>1953</td>\n",
       "      <td>69</td>\n",
       "      <td>165</td>\n",
       "      <td>5</td>\n",
       "      <td>3</td>\n",
       "      <td>Enschede</td>\n",
       "      <td>2 weken</td>\n",
       "      <td>Eengezinswoning, tussenwoning</td>\n",
       "      <td>52.2125</td>\n",
       "      <td>6.8641</td>\n",
       "    </tr>\n",
       "    <tr>\n",
       "      <th>8143</th>\n",
       "      <td>2021</td>\n",
       "      <td>569.000</td>\n",
       "      <td>3327.485380</td>\n",
       "      <td>1989</td>\n",
       "      <td>171</td>\n",
       "      <td>721</td>\n",
       "      <td>6</td>\n",
       "      <td>5</td>\n",
       "      <td>Enschede</td>\n",
       "      <td>2 weken</td>\n",
       "      <td>Eengezinswoning, vrijstaande woning</td>\n",
       "      <td>52.1929</td>\n",
       "      <td>6.9008</td>\n",
       "    </tr>\n",
       "  </tbody>\n",
       "</table>\n",
       "<p>8144 rows × 13 columns</p>\n",
       "</div>"
      ],
      "text/plain": [
       "      year_crawled    price     price_m2 year_construction  area_living  \\\n",
       "0             2022  325.000  3095.238095              1987          105   \n",
       "1             2022  250.000  4032.258065              1954           62   \n",
       "2             2022  270.000  3417.721519              None           79   \n",
       "3             2022  269.500  2542.452830              1980          106   \n",
       "4             2022  650.000  4744.525547              1934          137   \n",
       "...            ...      ...          ...               ...          ...   \n",
       "8139          2021  197.500  1899.038462              1867          104   \n",
       "8140          2021  795.000  2760.416667              1923          288   \n",
       "8141          2021  325.000  2338.129496              1967          139   \n",
       "8142          2021  230.000  3333.333333              1953           69   \n",
       "8143          2021  569.000  3327.485380              1989          171   \n",
       "\n",
       "     land_plot  room_no  berooms_no      city     offered_since  \\\n",
       "0          164        5           4    Arnhem  2 september 2022   \n",
       "1                     3           2    Arnhem  1 september 2022   \n",
       "2                     2           1    Arnhem           6 weken   \n",
       "3          123        4           3    Arnhem         2 maanden   \n",
       "4          262        5           4    Arnhem           8 weken   \n",
       "...        ...      ...         ...       ...               ...   \n",
       "8139       313        4           3  Enschede           2 weken   \n",
       "8140       652       11           5  Enschede           2 weken   \n",
       "8141       195        5           3  Enschede           2 weken   \n",
       "8142       165        5           3  Enschede           2 weken   \n",
       "8143       721        6           5  Enschede           2 weken   \n",
       "\n",
       "                                item_type  latitude  longitude  \n",
       "0             Eengezinswoning, eindwoning   51.9577     5.8930  \n",
       "1                                    None   51.9911     5.9366  \n",
       "2                                    None   51.9814     5.9064  \n",
       "3           Eengezinswoning, tussenwoning   51.9484     5.8577  \n",
       "4             Eengezinswoning, hoekwoning   51.9922     5.8823  \n",
       "...                                   ...       ...        ...  \n",
       "8139        Eengezinswoning, tussenwoning   52.2201     6.9615  \n",
       "8140            Villa, vrijstaande woning   52.2257     6.8956  \n",
       "8141  Eengezinswoning, geschakelde woning   52.2361     6.8945  \n",
       "8142        Eengezinswoning, tussenwoning   52.2125     6.8641  \n",
       "8143  Eengezinswoning, vrijstaande woning   52.1929     6.9008  \n",
       "\n",
       "[8144 rows x 13 columns]"
      ]
     },
     "execution_count": 39,
     "metadata": {},
     "output_type": "execute_result"
    }
   ],
   "source": [
    "df2\n"
   ]
  },
  {
   "cell_type": "code",
   "execution_count": 15,
   "metadata": {},
   "outputs": [
    {
     "name": "stdout",
     "output_type": "stream",
     "text": [
      "<class 'pandas.core.frame.DataFrame'>\n",
      "Int64Index: 8144 entries, 0 to 8143\n",
      "Data columns (total 13 columns):\n",
      " #   Column             Non-Null Count  Dtype  \n",
      "---  ------             --------------  -----  \n",
      " 0   crawled_in         8144 non-null   int64  \n",
      " 1   price              8144 non-null   object \n",
      " 2   price_m2           8144 non-null   float64\n",
      " 3   year_construction  7750 non-null   object \n",
      " 4   area_living        8144 non-null   int64  \n",
      " 5   land_plot          8144 non-null   object \n",
      " 6   room_no            8144 non-null   int64  \n",
      " 7   berooms_no         8144 non-null   int64  \n",
      " 8   city               8144 non-null   object \n",
      " 9   offered_since      8144 non-null   object \n",
      " 10  item_type          2978 non-null   object \n",
      " 11  latitude           8144 non-null   float64\n",
      " 12  longitude          8144 non-null   float64\n",
      "dtypes: float64(3), int64(4), object(6)\n",
      "memory usage: 890.8+ KB\n"
     ]
    }
   ],
   "source": [
    "df2.info()"
   ]
  },
  {
   "cell_type": "code",
   "execution_count": 42,
   "metadata": {},
   "outputs": [
    {
     "data": {
      "text/plain": [
       "2021    6183\n",
       "2022    1961\n",
       "Name: year_crawled, dtype: int64"
      ]
     },
     "execution_count": 42,
     "metadata": {},
     "output_type": "execute_result"
    }
   ],
   "source": [
    "df2['year_crawled'].value_counts()"
   ]
  },
  {
   "attachments": {},
   "cell_type": "markdown",
   "metadata": {
    "id": "A5nwu_QIZyar",
    "pycharm": {
     "name": "#%% md\n"
    }
   },
   "source": [
    "## Vragen\n",
    "1. Hoeveel missende perceelgroottes heb je?\n",
    "2. Welke verschillende formats zie je in 'aangeboden sinds'\n",
    "3. Welke item-types zijn er?\n",
    "\n",
    "\n",
    "Voor het beantwoorden van deze vragen kun je de volgende functies gebruiken:\n",
    "- `df['kolomnaam'].unique()` https://pandas.pydata.org/docs/reference/api/pandas.Series.unique.html\n",
    "- `df['kolomnaam'].value_counts()` : https://pandas.pydata.org/docs/reference/api/pandas.Series.value_counts.html\n",
    "_________\n",
    "## Questions\n",
    "1. How many missing plot sizes do you have?\n",
    "2. What different formats do you see in 'offered since'\n",
    "3. What item types are there?\n",
    "\n",
    "\n",
    "To answer these questions, you can use the following functions:\n",
    "- `df['column name'].unique()` https://pandas.pydata.org/docs/reference/api/pandas.Series.unique.html\n",
    "- `df['column name'].value_counts()` : https://pandas.pydata.org/docs/reference/api/pandas.Series.value_counts.html"
   ]
  },
  {
   "cell_type": "code",
   "execution_count": 24,
   "metadata": {
    "id": "XvIxsVf3Zyar",
    "pycharm": {
     "name": "#%%\n"
    }
   },
   "outputs": [
    {
     "data": {
      "text/plain": [
       "       5463\n",
       "1        63\n",
       "145      31\n",
       "160      31\n",
       "115      30\n",
       "       ... \n",
       "765       1\n",
       "466       1\n",
       "529       1\n",
       "5         1\n",
       "721       1\n",
       "Name: land_plot, Length: 515, dtype: int64"
      ]
     },
     "execution_count": 24,
     "metadata": {},
     "output_type": "execute_result"
    }
   ],
   "source": [
    "# code hier\n",
    "plot_count = df2['land_plot'].value_counts()\n",
    "plot_count"
   ]
  },
  {
   "cell_type": "code",
   "execution_count": 27,
   "metadata": {},
   "outputs": [
    {
     "data": {
      "text/plain": [
       "5463"
      ]
     },
     "execution_count": 27,
     "metadata": {},
     "output_type": "execute_result"
    }
   ],
   "source": [
    "# Answer 1\n",
    "plot_count['']"
   ]
  },
  {
   "cell_type": "code",
   "execution_count": 29,
   "metadata": {
    "id": "tt0Z9vUfiFje",
    "pycharm": {
     "name": "#%%\n"
    }
   },
   "outputs": [
    {
     "data": {
      "text/plain": [
       "array(['2 september 2022', '1 september 2022', '6 weken', '2 maanden',\n",
       "       '8 weken', '4 maanden', '5 weken', '2 weken', '5 maanden',\n",
       "       '3 maanden', '6 september 2022', '13 september 2022',\n",
       "       '12 september 2022', '14 september 2022', '6+ maanden', 'Vandaag',\n",
       "       '3 weken', '4 weken', '5 september 2022', '7 september 2022',\n",
       "       '8 september 2022', '7 weken', '9 september 2022',\n",
       "       '10 september 2022', '3 september 2022', '4 september 2022',\n",
       "       '11 september 2022', '2 oktober 2021', '8 oktober 2021',\n",
       "       '9 oktober 2021', '30 september 2021', '7 oktober 2021',\n",
       "       '28 september 2021', '29 september 2021', '6 oktober 2021',\n",
       "       '5 oktober 2021', '27 september 2021', '4 oktober 2021',\n",
       "       '1 oktober 2021', '3 oktober 2021'], dtype=object)"
      ]
     },
     "execution_count": 29,
     "metadata": {},
     "output_type": "execute_result"
    }
   ],
   "source": [
    "# code hier\n",
    "df2['offered_since'].unique()\n",
    "\n",
    "# d month yyy, time difference in months or weeks"
   ]
  },
  {
   "cell_type": "code",
   "execution_count": 31,
   "metadata": {},
   "outputs": [
    {
     "data": {
      "text/plain": [
       "40"
      ]
     },
     "execution_count": 31,
     "metadata": {},
     "output_type": "execute_result"
    }
   ],
   "source": [
    "len(df2['offered_since'].unique())"
   ]
  },
  {
   "cell_type": "code",
   "execution_count": 33,
   "metadata": {},
   "outputs": [
    {
     "data": {
      "text/plain": [
       "array(['Eengezinswoning, eindwoning', None,\n",
       "       'Eengezinswoning, tussenwoning', 'Eengezinswoning, hoekwoning',\n",
       "       'Herenhuis, 2-onder-1-kapwoning',\n",
       "       'Eengezinswoning, 2-onder-1-kapwoning',\n",
       "       'Eengezinswoning, geschakelde woning',\n",
       "       'Eengezinswoning, vrijstaande woning', 'Villa, vrijstaande woning',\n",
       "       'Eengezinswoning, halfvrijstaande woning',\n",
       "       'Bungalow, geschakelde woning', 'Herenhuis, tussenwoning',\n",
       "       'Eengezinswoning, 2-onder-1-kapwoning (split-level woning)',\n",
       "       'Woonboerderij, vrijstaande woning', 'Herenhuis, hoekwoning',\n",
       "       'Eengezinswoning, geschakelde 2-onder-1-kapwoning',\n",
       "       'Woonboerderij, halfvrijstaande woning',\n",
       "       'Herenhuis, halfvrijstaande woning',\n",
       "       'Eengezinswoning, tussenwoning (drive-in woning)',\n",
       "       'Eengezinswoning, 2-onder-1-kapwoning (hofjeswoning)',\n",
       "       'Eengezinswoning, tussenwoning (waterwoning)',\n",
       "       'Eengezinswoning, hoekwoning (drive-in woning)',\n",
       "       'Eengezinswoning, hoekwoning (split-level woning)',\n",
       "       'Bungalow, vrijstaande woning',\n",
       "       'Eengezinswoning, tussenwoning (split-level woning)',\n",
       "       'Eengezinswoning, eindwoning (drive-in woning)',\n",
       "       'Herenhuis, vrijstaande woning', 'Landhuis, vrijstaande woning',\n",
       "       'Eengezinswoning, tussenwoning (hofjeswoning)',\n",
       "       'Villa, geschakelde 2-onder-1-kapwoning',\n",
       "       'Bungalow, halfvrijstaande woning', 'Bungalow, tussenwoning',\n",
       "       'Herenhuis, eindwoning', 'Bungalow, tussenwoning (patiowoning)',\n",
       "       'Bungalow, vrijstaande woning (semi-bungalow)',\n",
       "       'Eengezinswoning, vrijstaande woning (bedrijfs- of dienstwoning)',\n",
       "       'Herenhuis, geschakelde woning',\n",
       "       'Bungalow, geschakelde woning (semi-bungalow)',\n",
       "       'Woonboot, vrijstaande woning', 'Grachtenpand, tussenwoning',\n",
       "       'Eengezinswoning, tussenwoning (dijkwoning)',\n",
       "       'Herenhuis, tussenwoning (hofjeswoning)',\n",
       "       'Villa, geschakelde woning',\n",
       "       'Herenhuis, tussenwoning (split-level woning)',\n",
       "       'Eengezinswoning, vrijstaande woning (dijkwoning)',\n",
       "       'Herenhuis, hoekwoning (split-level woning)',\n",
       "       'Woonboot, vrijstaande woning (waterwoning)',\n",
       "       'Villa, vrijstaande woning (waterwoning)',\n",
       "       'Woonboerderij, halfvrijstaande woning (hofjeswoning)',\n",
       "       'Eengezinswoning, geschakelde woning (kwadrant woning)',\n",
       "       'Eengezinswoning, tussenwoning (patiowoning)',\n",
       "       'Villa, 2-onder-1-kapwoning (waterwoning)',\n",
       "       'Villa, 2-onder-1-kapwoning', 'Landgoed, vrijstaande woning',\n",
       "       'Eengezinswoning, verspringend',\n",
       "       'Bungalow, vrijstaande woning (split-level woning)',\n",
       "       'Eengezinswoning, tussenwoning (bedrijfs- of dienstwoning)',\n",
       "       'Herenhuis, tussenwoning (dijkwoning)',\n",
       "       'Villa, vrijstaande woning (dijkwoning)',\n",
       "       'Herenhuis, hoekwoning (drive-in woning)',\n",
       "       'Herenhuis, tussenwoning (drive-in woning)',\n",
       "       'Villa, halfvrijstaande woning',\n",
       "       'Herenhuis, tussenwoning (waterwoning)',\n",
       "       'Herenhuis, 2-onder-1-kapwoning (dijkwoning)',\n",
       "       'Eengezinswoning, hoekwoning (kwadrant woning)',\n",
       "       'Eengezinswoning, halfvrijstaande woning (dijkwoning)',\n",
       "       'Eengezinswoning, 2-onder-1-kapwoning (dijkwoning)',\n",
       "       'Eengezinswoning, eindwoning (hofjeswoning)',\n",
       "       'Herenhuis, geschakelde 2-onder-1-kapwoning',\n",
       "       'Grachtenpand, tussenwoning (waterwoning)',\n",
       "       'Grachtenpand, geschakelde woning',\n",
       "       'Eengezinswoning, geschakelde woning (split-level woning)',\n",
       "       'Landhuis, vrijstaande woning (bedrijfs- of dienstwoning)',\n",
       "       'Villa, geschakelde woning (dijkwoning)',\n",
       "       'Herenhuis, geschakelde woning (split-level woning)',\n",
       "       'Grachtenpand, eindwoning',\n",
       "       'Eengezinswoning, eindwoning (waterwoning)',\n",
       "       'Villa, halfvrijstaande woning (waterwoning)',\n",
       "       'Eengezinswoning, hoekwoning (hofjeswoning)',\n",
       "       'Woonboerderij, 2-onder-1-kapwoning',\n",
       "       'Eengezinswoning, vrijstaande woning (waterwoning)',\n",
       "       'Villa, hoekwoning', 'Villa, hoekwoning (patiowoning)',\n",
       "       'Villa, tussenwoning (patiowoning)', 'Villa, tussenwoning',\n",
       "       'Bungalow, hoekwoning',\n",
       "       'Eengezinswoning, eindwoning (patiowoning)'], dtype=object)"
      ]
     },
     "execution_count": 33,
     "metadata": {},
     "output_type": "execute_result"
    }
   ],
   "source": [
    "df2['item_type'].unique()"
   ]
  },
  {
   "cell_type": "code",
   "execution_count": 34,
   "metadata": {
    "id": "KQHMs3wmiFw-",
    "pycharm": {
     "name": "#%%\n"
    }
   },
   "outputs": [
    {
     "data": {
      "text/plain": [
       "87"
      ]
     },
     "execution_count": 34,
     "metadata": {},
     "output_type": "execute_result"
    }
   ],
   "source": [
    "# code hier\n",
    "len(df2['item_type'].unique())"
   ]
  },
  {
   "attachments": {},
   "cell_type": "markdown",
   "metadata": {
    "id": "gHLj-y21Ivdx",
    "pycharm": {
     "name": "#%% md\n"
    }
   },
   "source": [
    "# Data Formats\n",
    "\n",
    "Soms wordt de data niet goed ingelezen. Bijvoorbeeld getallen die als tekst worden geinterpreteerd in plaats van als getal.\n",
    "\n",
    "Bekijk voor elke kolom of het type data klopt. Wanneer dit niet het geval is zet je de data om in het goede formaat.\n",
    "\n",
    "_____________\n",
    "# Data Formats\n",
    "\n",
    "Sometimes data is not read in properly. For example, numbers interpreted as text instead of numbers.\n",
    "\n",
    "For each column, check whether the data type is correct. If not, convert the data to the correct format.\n"
   ]
  },
  {
   "attachments": {},
   "cell_type": "markdown",
   "metadata": {
    "id": "orKmqCjfmaVp",
    "pycharm": {
     "name": "#%% md\n"
    }
   },
   "source": [
    "## Vragen\n",
    "4.  Welke kolommen hadden niet het juiste formaat? En welke omzetting heb je gedaan?\n",
    "\n",
    "Voor het beantwoorden van deze vraag kun je gebruik maken van de volgende functies:\n",
    "- `df.info()` https://pandas.pydata.org/docs/reference/api/pandas.DataFrame.info.html\n",
    "- `df[\"kolomnaam\"] = pd.to_numeric(df[\"kolomnaam\"])` https://pandas.pydata.org/docs/reference/api/pandas.to_numeric.html\n",
    "- `df[\"kolomnaam\"] = df[\"kolomnaam\"].str.replace(\"x\",\"y\"))` om in een kolom bepaalde tekstuele vervangingen te doen. Hierin kun je ook reguliere expressies gebruiken zoals `\\w+\\s+` https://pandas.pydata.org/docs/reference/api/pandas.Series.str.replace.html\n",
    "______________\n",
    "## Questions\n",
    "4.  Which columns did not have the correct format? And what conversion did you do?\n",
    "\n",
    "To answer this question, you can use the following functions:\n",
    "- `df.info()` https://pandas.pydata.org/docs/reference/api/pandas.DataFrame.info.html\n",
    "- `df[\"column name\"] = pd.to_numeric(df[\"column name\"])` https://pandas.pydata.org/docs/reference/api/pandas.to_numeric.html\n",
    "- `df[\"column name\"] = df[\"column name\"].str.replace(\"x\", \"y\"))` to do certain textual substitutions in a column. In this, you can also use regular expressions such as `\\w+\\s+` https://pandas.pydata.org/docs/reference/api/pandas.Series.str.replace.html"
   ]
  },
  {
   "cell_type": "code",
   "execution_count": 35,
   "metadata": {
    "id": "HSL3N3mgkddV",
    "pycharm": {
     "name": "#%%\n"
    }
   },
   "outputs": [
    {
     "name": "stdout",
     "output_type": "stream",
     "text": [
      "<class 'pandas.core.frame.DataFrame'>\n",
      "Int64Index: 8144 entries, 0 to 8143\n",
      "Data columns (total 13 columns):\n",
      " #   Column             Non-Null Count  Dtype  \n",
      "---  ------             --------------  -----  \n",
      " 0   crawled_in         8144 non-null   int64  \n",
      " 1   price              8144 non-null   object \n",
      " 2   price_m2           8144 non-null   float64\n",
      " 3   year_construction  7750 non-null   object \n",
      " 4   area_living        8144 non-null   int64  \n",
      " 5   land_plot          8144 non-null   object \n",
      " 6   room_no            8144 non-null   int64  \n",
      " 7   berooms_no         8144 non-null   int64  \n",
      " 8   city               8144 non-null   object \n",
      " 9   offered_since      8144 non-null   object \n",
      " 10  item_type          2978 non-null   object \n",
      " 11  latitude           8144 non-null   float64\n",
      " 12  longitude          8144 non-null   float64\n",
      "dtypes: float64(3), int64(4), object(6)\n",
      "memory usage: 890.8+ KB\n"
     ]
    }
   ],
   "source": [
    "# code hier\n",
    "df2.info()"
   ]
  },
  {
   "cell_type": "code",
   "execution_count": 37,
   "metadata": {},
   "outputs": [
    {
     "data": {
      "text/html": [
       "<div>\n",
       "<style scoped>\n",
       "    .dataframe tbody tr th:only-of-type {\n",
       "        vertical-align: middle;\n",
       "    }\n",
       "\n",
       "    .dataframe tbody tr th {\n",
       "        vertical-align: top;\n",
       "    }\n",
       "\n",
       "    .dataframe thead th {\n",
       "        text-align: right;\n",
       "    }\n",
       "</style>\n",
       "<table border=\"1\" class=\"dataframe\">\n",
       "  <thead>\n",
       "    <tr style=\"text-align: right;\">\n",
       "      <th></th>\n",
       "      <th>crawled_in</th>\n",
       "      <th>offered_since</th>\n",
       "    </tr>\n",
       "  </thead>\n",
       "  <tbody>\n",
       "    <tr>\n",
       "      <th>0</th>\n",
       "      <td>2022</td>\n",
       "      <td>2 september 2022</td>\n",
       "    </tr>\n",
       "    <tr>\n",
       "      <th>1</th>\n",
       "      <td>2022</td>\n",
       "      <td>1 september 2022</td>\n",
       "    </tr>\n",
       "    <tr>\n",
       "      <th>2</th>\n",
       "      <td>2022</td>\n",
       "      <td>6 weken</td>\n",
       "    </tr>\n",
       "    <tr>\n",
       "      <th>3</th>\n",
       "      <td>2022</td>\n",
       "      <td>2 maanden</td>\n",
       "    </tr>\n",
       "    <tr>\n",
       "      <th>4</th>\n",
       "      <td>2022</td>\n",
       "      <td>8 weken</td>\n",
       "    </tr>\n",
       "    <tr>\n",
       "      <th>...</th>\n",
       "      <td>...</td>\n",
       "      <td>...</td>\n",
       "    </tr>\n",
       "    <tr>\n",
       "      <th>8139</th>\n",
       "      <td>2021</td>\n",
       "      <td>2 weken</td>\n",
       "    </tr>\n",
       "    <tr>\n",
       "      <th>8140</th>\n",
       "      <td>2021</td>\n",
       "      <td>2 weken</td>\n",
       "    </tr>\n",
       "    <tr>\n",
       "      <th>8141</th>\n",
       "      <td>2021</td>\n",
       "      <td>2 weken</td>\n",
       "    </tr>\n",
       "    <tr>\n",
       "      <th>8142</th>\n",
       "      <td>2021</td>\n",
       "      <td>2 weken</td>\n",
       "    </tr>\n",
       "    <tr>\n",
       "      <th>8143</th>\n",
       "      <td>2021</td>\n",
       "      <td>2 weken</td>\n",
       "    </tr>\n",
       "  </tbody>\n",
       "</table>\n",
       "<p>8144 rows × 2 columns</p>\n",
       "</div>"
      ],
      "text/plain": [
       "      crawled_in     offered_since\n",
       "0           2022  2 september 2022\n",
       "1           2022  1 september 2022\n",
       "2           2022           6 weken\n",
       "3           2022         2 maanden\n",
       "4           2022           8 weken\n",
       "...          ...               ...\n",
       "8139        2021           2 weken\n",
       "8140        2021           2 weken\n",
       "8141        2021           2 weken\n",
       "8142        2021           2 weken\n",
       "8143        2021           2 weken\n",
       "\n",
       "[8144 rows x 2 columns]"
      ]
     },
     "execution_count": 37,
     "metadata": {},
     "output_type": "execute_result"
    }
   ],
   "source": [
    "df2[['crawled_in', 'offered_since']]"
   ]
  },
  {
   "attachments": {},
   "cell_type": "markdown",
   "metadata": {
    "id": "Bef9ZSUJjPfc",
    "pycharm": {
     "name": "#%% md\n"
    }
   },
   "source": [
    "Er zitten ook nog wat datapunten in de set waarvan de vraagprijs niet is ingevuld. Verwijder deze items, let op dat je niet teveel verwijderd/\n",
    "\n",
    "Je kunt hiervoor `df.dropna()` gebruiken met de optie subset https://pandas.pydata.org/docs/reference/api/pandas.DataFrame.dropna.html\n",
    "\n",
    "___________________________\n",
    "\n",
    "There are also some data items in the set whose asking price is not filled in. Delete these items, being careful not to delete too many/\n",
    "\n",
    "You can use `df.dropna()` for this with the subset option https://pandas.pydata.org/docs/reference/api/pandas.DataFrame.dropna.html"
   ]
  },
  {
   "cell_type": "code",
   "execution_count": null,
   "metadata": {
    "id": "PgiLeZ3clFzn",
    "pycharm": {
     "name": "#%%\n"
    }
   },
   "outputs": [],
   "source": [
    "# code hier"
   ]
  },
  {
   "cell_type": "code",
   "execution_count": null,
   "metadata": {
    "id": "5nCK8WqeKr9c",
    "pycharm": {
     "name": "#%%\n"
    }
   },
   "outputs": [],
   "source": [
    "# Bekijk hoe je data er nu uit ziet\n",
    "df.head()"
   ]
  },
  {
   "cell_type": "markdown",
   "metadata": {
    "id": "EoN-ejvRJGdT",
    "pycharm": {
     "name": "#%% md\n"
    }
   },
   "source": [
    "# Data Visualiseren\n",
    "\n",
    "Vaak is data beter te begrijpen aan de hand van plaatjes. Daarom gaan we nu de verschillende kolommen visualiseren\n",
    "\n",
    "\n",
    "\n",
    "\n",
    "\n",
    "\n",
    "\n",
    "\n"
   ]
  },
  {
   "cell_type": "markdown",
   "metadata": {
    "id": "DCLTszz1mfSj",
    "pycharm": {
     "name": "#%% md\n"
    }
   },
   "source": [
    "## Vragen:\n",
    "5. maak een histogram van bouwjaar\n",
    "6. maak een histogram van het aantal kamers\n",
    "7. *(optioneel) Probeer te spelen met het aantal groepen in het bouwjaar om de visualisatiee beter te maken, bijvoorbeeld bouwjaar 1950-1960*\n",
    "\n",
    "\n",
    "gebruik `df['kolomnaam'].hist()` https://pandas.pydata.org/docs/reference/api/pandas.DataFrame.hist.html - maak ook gebruik van de bins optie"
   ]
  },
  {
   "cell_type": "code",
   "execution_count": null,
   "metadata": {
    "id": "xT_Sdg37KwQ0",
    "pycharm": {
     "name": "#%%\n"
    }
   },
   "outputs": [],
   "source": [
    "# code hier"
   ]
  },
  {
   "cell_type": "markdown",
   "metadata": {
    "id": "BuuLjhDYl027",
    "pycharm": {
     "name": "#%% md\n"
    }
   },
   "source": [
    "Ook kunnen we kijken naar correlaties in de data\n",
    "\n",
    "## Vragen\n",
    "8. Maak een correlatiegrafiek tussen woonoppervlakte en vraagprijs\n",
    "9. Zijn er nog andere combinaties van kolommen waarin een correlatie te zien is?\n",
    "\n",
    "gebruik `df.plot.scatter()` https://pandas.pydata.org/pandas-docs/version/0.25.0/reference/api/pandas.DataFrame.plot.scatter.html"
   ]
  },
  {
   "cell_type": "code",
   "execution_count": null,
   "metadata": {
    "id": "zFIepRvLlzjz",
    "pycharm": {
     "name": "#%%\n"
    }
   },
   "outputs": [],
   "source": [
    "# code hier"
   ]
  },
  {
   "cell_type": "code",
   "execution_count": null,
   "metadata": {
    "id": "MaPGoid-m-4O",
    "pycharm": {
     "name": "#%%\n"
    }
   },
   "outputs": [],
   "source": [
    "# je kunt ook nog experimenteren met\n",
    "# df.boxplot() voor boxplots\n",
    "# sns.heatmap(df.corr())"
   ]
  },
  {
   "cell_type": "markdown",
   "metadata": {
    "id": "KRNucZBCmRw4",
    "pycharm": {
     "name": "#%% md\n"
    }
   },
   "source": [
    "# Visualiseren van Locaties"
   ]
  },
  {
   "cell_type": "code",
   "execution_count": null,
   "metadata": {
    "id": "eKBNhZn7Zyau",
    "pycharm": {
     "name": "#%%\n"
    }
   },
   "outputs": [],
   "source": [
    "!pip install geopandas"
   ]
  },
  {
   "cell_type": "markdown",
   "metadata": {
    "id": "S-oG1oGRZyaw",
    "pycharm": {
     "name": "#%% md\n"
    }
   },
   "source": [
    "Nu gaan we de huizen plotten op een kaart van Nederland met behulp van geopandas."
   ]
  },
  {
   "cell_type": "code",
   "execution_count": null,
   "metadata": {
    "id": "AHmNaQRhZyaw",
    "pycharm": {
     "name": "#%%\n"
    }
   },
   "outputs": [],
   "source": [
    "import geopandas as gpd\n",
    "\n",
    "#Eerst laden we een kaart van Nederland in\n",
    "nl = gpd.read_file(\"https://stacks.stanford.edu/file/druid:st293bj4601/data.zip\")\n",
    "nlmap = nl.plot()\n",
    "\n",
    "#Nu plotten we de huizen op basis van hun coordinaten op de kaart\n",
    "houses = gpd.GeoDataFrame(geometry=gpd.points_from_xy(df['longitude'], df['latitude']))\n",
    "houses.plot(ax=nlmap, color='red', markersize=0.5)\n",
    "\n"
   ]
  },
  {
   "cell_type": "markdown",
   "metadata": {
    "id": "e97oMHQXZyax",
    "pycharm": {
     "name": "#%% md\n"
    }
   },
   "source": [
    "## Vragen\n",
    "\n",
    "10. Wat valt op aan de locaties van de huizen? \n",
    "11. Morgen gaan we verder met het voorspellen van huizenprijzen. Schrijf op welke informatie je denkt te kunnen gebruiken voor het voorspellen van de verkoopprijzen van huizen"
   ]
  },
  {
   "cell_type": "code",
   "execution_count": null,
   "metadata": {
    "id": "VMow308OncAD",
    "pycharm": {
     "name": "#%%\n"
    }
   },
   "outputs": [],
   "source": []
  }
 ],
 "metadata": {
  "colab": {
   "collapsed_sections": [],
   "provenance": []
  },
  "kernelspec": {
   "display_name": "cv_tf",
   "language": "python",
   "name": "cv_tf"
  },
  "language_info": {
   "codemirror_mode": {
    "name": "ipython",
    "version": 3
   },
   "file_extension": ".py",
   "mimetype": "text/x-python",
   "name": "python",
   "nbconvert_exporter": "python",
   "pygments_lexer": "ipython3",
   "version": "3.10.8"
  },
  "vscode": {
   "interpreter": {
    "hash": "31f2aee4e71d21fbe5cf8b01ff0e069b9275f58929596ceb00d14d90e3e16cd6"
   }
  }
 },
 "nbformat": 4,
 "nbformat_minor": 0
}
